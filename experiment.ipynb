{
 "cells": [
  {
   "cell_type": "code",
   "execution_count": 1,
   "id": "2ca29be4-2dfb-4c66-adbd-df22d1f80d80",
   "metadata": {},
   "outputs": [
    {
     "name": "stderr",
     "output_type": "stream",
     "text": [
      "\n"
     ]
    }
   ],
   "source": [
    "%load_ext autoreload\n",
    "%autoreload 2\n",
    "\n",
    "import numpy as np\n",
    "from wordle_env import WordleEnv\n",
    "import torch\n",
    "import torch.nn as nn\n",
    "import torch.nn.functional as F"
   ]
  },
  {
   "cell_type": "code",
   "execution_count": 2,
   "id": "f6f1f613-ce69-44eb-b936-a42e59a93e71",
   "metadata": {},
   "outputs": [
    {
     "data": {
      "text/plain": [
       "<torch.autograd.anomaly_mode.set_detect_anomaly at 0x7fda5009e970>"
      ]
     },
     "execution_count": 2,
     "metadata": {},
     "output_type": "execute_result"
    }
   ],
   "source": [
    "torch.autograd.set_detect_anomaly(True)"
   ]
  },
  {
   "cell_type": "code",
   "execution_count": 3,
   "id": "ab7ae835-d677-49c8-a9a3-3e5c55a6afd2",
   "metadata": {},
   "outputs": [],
   "source": [
    "DEVICE = torch.device('cpu')"
   ]
  },
  {
   "cell_type": "code",
   "execution_count": 4,
   "id": "dba69c13-dd8c-4077-8d8c-1ceabb702fc5",
   "metadata": {},
   "outputs": [],
   "source": [
    "def get_allowed_letters(word_matrix, word_mask, position):\n",
    "    \"\"\"\n",
    "        word_matrix: torch.Tensor of size (num_words, word_length)\n",
    "        word_mask: torch.Tensor of size (batch_size, num_words)\n",
    "        position: int\n",
    "        \n",
    "        returns\n",
    "        \n",
    "        letters_mask: (batch_size, num_letters) -- mask of possible letters\n",
    "    \"\"\"\n",
    "    batch_size = word_mask.size(0)\n",
    "    word_matrix_expanded = word_matrix[:, position].unsqueeze(0).expand(batch_size, -1)\n",
    "    \n",
    "    # print(word_matrix[:, position].shape)\n",
    "    # print(word_matrix_expanded.shape)\n",
    "    # print(word_matrix[:, position].unsqueeze(1).shape)\n",
    "    \n",
    "    word_matrix_masked = (word_matrix_expanded * word_mask).long()    \n",
    "    letter_mask = torch.full(fill_value=False, size=(batch_size, num_letters))\n",
    "    letter_mask = letter_mask.scatter(index=word_matrix_masked, dim=1, value=True)\n",
    "    letter_mask[:, 0] = 0\n",
    "    return letter_mask"
   ]
  },
  {
   "cell_type": "code",
   "execution_count": 19,
   "id": "e150594f-d647-4231-8c31-c23f8c4c0953",
   "metadata": {},
   "outputs": [],
   "source": [
    "from torch.distributions import Categorical\n",
    "\n",
    "class Encoder(nn.Module):\n",
    "    def __init__(self, letter_tokens, guess_tokens, emb_dim, hid_dim, dropout):\n",
    "        super().__init__()\n",
    "\n",
    "        self.hid_dim = hid_dim\n",
    "        \n",
    "        self.letter_embedding = nn.Embedding(letter_tokens, emb_dim)\n",
    "        self.guess_state_embedding = nn.Embedding(guess_tokens, emb_dim)\n",
    "\n",
    "        self.rnn = nn.LSTM(emb_dim, hid_dim, batch_first=True)\n",
    "        self.dropout = nn.Dropout(dropout)\n",
    "\n",
    "    def forward(self, letter_seq, state_seq):\n",
    "        letters_embedded = self.dropout(self.letter_embedding(letter_seq))\n",
    "        states_embedded = self.dropout(self.guess_state_embedding(state_seq))\n",
    "\n",
    "        outputs, (hidden, cell) = self.rnn(letters_embedded + states_embedded)\n",
    "        \n",
    "        #outputs = [src len, batch size, hid dim * n directions]\n",
    "        #hidden = [n layers * n directions, batch size, hid dim]\n",
    "        #cell = [n layers * n directions, batch size, hid dim]\n",
    "        \n",
    "        #outputs are always from the top hidden layer\n",
    "        \n",
    "        return hidden, cell\n",
    "\n",
    "\n",
    "class Decoder(nn.Module):\n",
    "    def __init__(self, output_dim, emb_dim, hid_dim, dropout):\n",
    "        super().__init__()\n",
    "        \n",
    "        self.output_dim = output_dim\n",
    "        self.hid_dim = hid_dim\n",
    "        \n",
    "        self.embedding = nn.Embedding(output_dim, emb_dim)\n",
    "        self.rnn = nn.LSTM(emb_dim, hid_dim, dropout=dropout, batch_first=True)        \n",
    "        self.fc_out = nn.Linear(hid_dim, output_dim)\n",
    "        self.dropout = nn.Dropout(dropout)\n",
    "        \n",
    "    def forward(self, input, hidden, cell):\n",
    "        input = input.unsqueeze(0)\n",
    "        embedded = self.dropout(self.embedding(input))\n",
    "        output, (hidden, cell) = self.rnn(embedded, (hidden, cell))\n",
    "                \n",
    "        prediction = self.fc_out(output.squeeze(0))\n",
    "        return prediction, hidden, cell\n",
    "\n",
    "\n",
    "\n",
    "class RNNAgent(nn.Module):\n",
    "    def __init__(self, letter_tokens, guess_tokens, emb_dim, hid_dim, output_dim, game_voc_matrix, output_len, sos_token, dropout=0.2):\n",
    "        super().__init__()\n",
    "        \n",
    "        self.encoder = Encoder(letter_tokens, guess_tokens, emb_dim, hid_dim, dropout)\n",
    "        self.decoder = Decoder(output_dim, emb_dim, hid_dim, dropout)\n",
    "\n",
    "        modules = [nn.Linear(hid_dim, hid_dim), nn.ReLU(), nn.Linear(hid_dim, 1)]\n",
    "        self.V_head = nn.Sequential(*modules)\n",
    "        \n",
    "        self.letter_tokens = letter_tokens\n",
    "        self.game_voc_matrix = game_voc_matrix\n",
    "        self.output_len = output_len\n",
    "        self.sos_token = sos_token\n",
    "    \n",
    "    def forward(self, letter_seq, state_seq):\n",
    "        \"\"\"\n",
    "            inputs:\n",
    "                letter_seq: (batch_size x num_sequences x sequence_length)\n",
    "                state_seq: (batch_size x num_sequences x sequence_length)\n",
    "                \n",
    "            outputs:\n",
    "                \n",
    "        \"\"\"\n",
    "        # tensor to store decoder outputs\n",
    "        batch_size = letter_seq.shape[0]\n",
    "        logits = torch.zeros(batch_size, self.output_len + 1, self.letter_tokens)\n",
    "\n",
    "        hidden, cell = self.encoder(letter_seq, state_seq)\n",
    "\n",
    "        # compute V\n",
    "        values = self.V_head(hidden.squeeze())\n",
    "\n",
    "        # first input to the decoder is the <sos> tokens\n",
    "        input = torch.full(size=(batch_size,), fill_value=self.sos_token)\n",
    "        \n",
    "        letter_mask = torch.full(size=(batch_size, self.letter_tokens), fill_value=True)\n",
    "        word_mask = torch.full(size=(batch_size, self.game_voc_matrix.shape[0]), fill_value=True)\n",
    "\n",
    "        # logits: (seq_length, batch_size, num_classes)\n",
    "        \n",
    "        actions = torch.zeros(size=(batch_size, self.output_len), dtype=torch.long)\n",
    "        log_probs = torch.zeros(size=(batch_size,))\n",
    "        for t in range(1, self.output_len + 1):\n",
    "\n",
    "            # cur_logits: (batch_size, num_classes)\n",
    "            # actions: (batch_size,)\n",
    "            cur_logits, hidden, cell = self.decoder(input, hidden, cell)\n",
    "            logits[:, t, :] = cur_logits\n",
    "\n",
    "            probs = F.softmax(cur_logits, dim=-1)\n",
    "\n",
    "            allowed_letters = get_allowed_letters(self.game_voc_matrix, word_mask, t-1)            \n",
    "            probs = torch.where(allowed_letters, probs, torch.zeros_like(probs))\n",
    "            # torch.where(<your_tensor> != 0, <tensor with zeroz>, <tensor with the value>)\n",
    "            actions_t = Categorical(probs=probs).sample()\n",
    "            \n",
    "            word_mask = word_mask & (self.game_voc_matrix[:, t - 1].unsqueeze(0) == actions_t.unsqueeze(1))\n",
    "\n",
    "            # keep which words are acceptable\n",
    "            cur_log_probs = torch.log(probs[range(batch_size), actions_t].clip(min=1e-12)).squeeze()\n",
    "\n",
    "            # letters_allowed_count = allowed_letters.sum(axis=-1)\n",
    "            # log_probs[letters_allowed_count > 1] += cur_log_probs[letters_allowed_count > 1]\n",
    "            log_probs += cur_log_probs\n",
    "            \n",
    "            actions[:, t-1] = actions_t\n",
    "            input = actions_t\n",
    "\n",
    "        return {\n",
    "            \"actions\": actions.cpu().numpy(),\n",
    "            # \"logits\": logits,\n",
    "            \"log_probs\": log_probs,\n",
    "            \"values\": values,\n",
    "        }\n",
    "    \n",
    "    def act(self, inputs):\n",
    "        '''\n",
    "        input:\n",
    "            inputs - numpy array, (batch_size x sequences x sequence_length)\n",
    "        output: dict containing keys ['actions', 'logits', 'log_probs', 'values']:\n",
    "            'actions' - selected actions, numpy, (batch_size, sequence_length)\n",
    "            'log_probs' - log probs of selected actions, tensor, (batch_size)\n",
    "            'values' - critic estimations, tensor, (batch_size)\n",
    "        '''\n",
    "        inputs = torch.LongTensor(inputs)\n",
    "        letter_tokens, state_tokens = inputs[:, 0, :], inputs[:, 1, :]\n",
    "        outputs = self(letter_tokens, state_tokens)\n",
    "        return outputs"
   ]
  },
  {
   "cell_type": "code",
   "execution_count": 20,
   "id": "0f0b37bd-961a-478b-9846-e96dfea6738f",
   "metadata": {},
   "outputs": [
    {
     "data": {
      "text/plain": [
       "tensor([[0, 0, 0, 0, 0, 0, 0, 0, 0, 0, 0, 0, 0, 0, 0, 0, 0, 0, 0, 0, 1, 0, 0, 0,\n",
       "         0, 0, 0, 0, 0],\n",
       "        [0, 0, 0, 0, 0, 0, 0, 0, 0, 0, 0, 0, 0, 0, 0, 0, 1, 0, 0, 0, 0, 0, 0, 0,\n",
       "         0, 0, 0, 0, 0]])"
      ]
     },
     "execution_count": 20,
     "metadata": {},
     "output_type": "execute_result"
    }
   ],
   "source": [
    "# test get_allowed_letters\n",
    "from wrappers import SequenceWrapper, ReshapeWrapper\n",
    "from wrappers import nature_dqn_env\n",
    "\n",
    "num_letters = 29\n",
    "\n",
    "env = WordleEnv()\n",
    "env = SequenceWrapper(env, sos_token=1)\n",
    "env = ReshapeWrapper(env)\n",
    "# env = nature_dqn_env(nenvs=2)\n",
    "\n",
    "word_mask = torch.tensor([[True, False, False], [False, True, False]])\n",
    "\n",
    "present_letters = get_allowed_letters(torch.from_numpy(env.game_voc_matrix), word_mask, 3).to(torch.long)\n",
    "present_letters"
   ]
  },
  {
   "cell_type": "code",
   "execution_count": 21,
   "id": "d6fb48d8-5268-45fe-9f1c-0ba41c6e3843",
   "metadata": {},
   "outputs": [
    {
     "data": {
      "text/plain": [
       "<tokenizer.Tokenizer at 0x7fda5009ec10>"
      ]
     },
     "execution_count": 21,
     "metadata": {},
     "output_type": "execute_result"
    }
   ],
   "source": [
    "env.tokenizer"
   ]
  },
  {
   "cell_type": "code",
   "execution_count": 22,
   "id": "599f579b-aec7-4ff9-af16-405db1fa143b",
   "metadata": {},
   "outputs": [],
   "source": [
    "from tokenizer import Tokenizer\n",
    "\n",
    "tokenizer = Tokenizer()\n",
    "game_voc_matrix = torch.FloatTensor(env.game_voc_matrix)\n",
    "agent = RNNAgent(len(tokenizer.index2letter), len(tokenizer.index2guess_state), 64, 32, len(tokenizer.index2letter), output_len=5, sos_token=1, game_voc_matrix=game_voc_matrix)"
   ]
  },
  {
   "cell_type": "code",
   "execution_count": 23,
   "id": "59a8b101-c082-46ec-ad81-0bfccb6d950a",
   "metadata": {},
   "outputs": [
    {
     "data": {
      "text/plain": [
       "dict_values([array([[18, 14,  3, 22,  7]]), tensor([-16.6782], grad_fn=<AddBackward0>), tensor([-0.0216], grad_fn=<AddBackward0>)])"
      ]
     },
     "execution_count": 23,
     "metadata": {},
     "output_type": "execute_result"
    }
   ],
   "source": [
    "obs = env.reset()\n",
    "\n",
    "letter_tokens = torch.LongTensor(obs[:, 0, :])\n",
    "state_tokens = torch.LongTensor(obs[:, 1, :])\n",
    "\n",
    "agent_output = agent(letter_tokens, state_tokens).values()\n",
    "agent_output"
   ]
  },
  {
   "cell_type": "code",
   "execution_count": 24,
   "id": "d5e5f6ed-b419-4cda-abeb-e4b69aaadef6",
   "metadata": {},
   "outputs": [
    {
     "name": "stdout",
     "output_type": "stream",
     "text": [
      "Trajectory keys: dict_keys(['actions', 'log_probs', 'values', 'observations', 'rewards', 'dones'])\n",
      "Trajectory rewards: [array([0.]), array([0.]), array([0.]), array([10.]), array([10.]), array([0.4])]\n"
     ]
    }
   ],
   "source": [
    "from runners import EnvRunner\n",
    "\n",
    "runner = EnvRunner(env, agent, nsteps=6)\n",
    "\n",
    "trajectory = runner.get_next()\n",
    "print(f\"Trajectory keys: {trajectory.keys()}\")\n",
    "print(f\"Trajectory rewards: {trajectory['rewards']}\")"
   ]
  },
  {
   "cell_type": "code",
   "execution_count": 25,
   "id": "100440ad-20f6-4a7c-861d-69f0c610b129",
   "metadata": {},
   "outputs": [],
   "source": [
    "nenvs = 1\n",
    "\n",
    "# Sanity checks\n",
    "# assert 'logits' in trajectory, \"Not found: policy didn't provide logits\"\n",
    "assert 'log_probs' in trajectory, \"Not found: policy didn't provide log_probs of selected actions\"\n",
    "assert 'values' in trajectory, \"Not found: policy didn't provide critic estimations\"\n",
    "# assert trajectory['logits'][0].shape == (nenvs, n_actions), \"logits wrong shape\"\n",
    "assert trajectory['log_probs'][0].shape == (nenvs,), \"log_probs wrong shape\"\n",
    "assert trajectory['values'][0].shape == (nenvs,), \"values wrong shape\"\n",
    "\n",
    "for key in trajectory.keys():\n",
    "    assert len(trajectory[key]) == 6, \\\n",
    "    f\"something went wrong: 6 steps should have been done, got trajectory of length {len(trajectory[key])} for '{key}'\"\n"
   ]
  },
  {
   "cell_type": "code",
   "execution_count": 26,
   "id": "30655394-01cf-4f27-ac5b-b9be27aa8e50",
   "metadata": {},
   "outputs": [],
   "source": [
    "class ComputeValueTargets:\n",
    "    def __init__(self, policy, gamma=0.99):\n",
    "        self.policy = policy\n",
    "        self.gamma = gamma\n",
    "\n",
    "    def __call__(self, trajectory, latest_observation):\n",
    "        '''\n",
    "        This method should modify trajectory inplace by adding \n",
    "        an item with key 'value_targets' to it\n",
    "        \n",
    "        input:\n",
    "            trajectory - dict from runner\n",
    "            latest_observation - last state, numpy, (num_envs x channels x width x height)\n",
    "        '''\n",
    "        T = len(trajectory['rewards'])\n",
    "        targets = [None] * T\n",
    "        R = self.policy.act(latest_observation)['values']\n",
    "        for t in range(T - 1, -1, -1):\n",
    "            rewards = torch.FloatTensor(trajectory['rewards'][t]).to(DEVICE)\n",
    "            dones = torch.LongTensor(trajectory['dones'][t]).to(DEVICE)\n",
    "            R = rewards + (1 - dones) * self.gamma * R\n",
    "            targets[t] = R\n",
    "        trajectory['value_targets'] = targets\n"
   ]
  },
  {
   "cell_type": "code",
   "execution_count": 27,
   "id": "5e93e36f-dedd-4821-bc24-e63ae6564447",
   "metadata": {},
   "outputs": [],
   "source": [
    "class MergeTimeBatch:\n",
    "    \"\"\" Merges first two axes typically representing time and env batch. \"\"\"\n",
    "    def __call__(self, trajectory, latest_observation):\n",
    "        trajectory['log_probs'] = torch.cat(trajectory['log_probs'], dim=0)\n",
    "        trajectory['values'] = torch.cat(trajectory['values'], dim=0)        \n",
    "        trajectory['value_targets'] = torch.cat(trajectory['value_targets'], dim=0)"
   ]
  },
  {
   "cell_type": "code",
   "execution_count": 28,
   "id": "88ec9d2f-982b-4a4c-9804-b803b7178362",
   "metadata": {},
   "outputs": [],
   "source": [
    "runner = EnvRunner(env, agent, nsteps=6, transforms=[ComputeValueTargets(agent),\n",
    "                                                      MergeTimeBatch()])\n",
    "trajectory = runner.get_next()"
   ]
  },
  {
   "cell_type": "code",
   "execution_count": 29,
   "id": "5c14f2b9-3c6d-4f47-abbd-7a552da1e1b7",
   "metadata": {},
   "outputs": [],
   "source": [
    "from collections import defaultdict\n",
    "from torch.nn.utils import clip_grad_norm_\n",
    "\n",
    "class A2C:\n",
    "    def __init__(self, policy, optimizer, value_loss_coef=0.25, entropy_coef=0.01, max_grad_norm=0.5):\n",
    "        self.policy = policy\n",
    "        self.optimizer = optimizer\n",
    "        self.value_loss_coef = value_loss_coef\n",
    "        self.entropy_coef = entropy_coef\n",
    "        self.max_grad_norm = max_grad_norm\n",
    "    \n",
    "    def loss(self, trajectory, write):\n",
    "        # compute all losses\n",
    "        # do not forget to use weights for critic loss and entropy loss\n",
    "\n",
    "        targets = trajectory['value_targets'].to(DEVICE).detach()\n",
    "        values = trajectory['values'].to(DEVICE)\n",
    "        log_probs = trajectory['log_probs'].to(DEVICE)\n",
    "        value_loss = (targets - values).pow(2).mean()\n",
    "        \n",
    "        # TODO: recompute\n",
    "        entropy_loss = (log_probs * torch.exp(log_probs)).mean()\n",
    "        \n",
    "        advantage = (targets - values).detach()\n",
    "        policy_loss = -(log_probs * advantage).mean()\n",
    "        \n",
    "        \n",
    "        # log all losses\n",
    "        write('losses', {\n",
    "            'policy loss': policy_loss,\n",
    "            'critic loss': value_loss,\n",
    "            'entropy loss': entropy_loss\n",
    "        })\n",
    "        \n",
    "        # additional logs\n",
    "        write('critic/advantage', advantage.mean())\n",
    "        write('critic/values', {\n",
    "            'value predictions': values.mean(),\n",
    "            'value targets': targets.mean(),\n",
    "        })\n",
    "        \n",
    "        # return scalar loss\n",
    "        return policy_loss + self.value_loss_coef * value_loss + self.entropy_coef * entropy_loss               \n",
    "\n",
    "    def train(self, runner):\n",
    "        # collect trajectory using runner\n",
    "        # compute loss and perform one step of gradient optimization\n",
    "        # do not forget to clip gradients\n",
    "        \n",
    "        trajectory = runner.get_next()\n",
    "        \n",
    "        self.optimizer.zero_grad()\n",
    "        loss = self.loss(trajectory, runner.write)\n",
    "        loss.backward()\n",
    "        grad_norm = clip_grad_norm_(self.policy.parameters(), self.max_grad_norm)\n",
    "        self.optimizer.step()\n",
    "        \n",
    "        runner.write('gradient norm', grad_norm)\n"
   ]
  },
  {
   "cell_type": "code",
   "execution_count": 30,
   "id": "a067a006-8a35-41ed-bc87-ffdad564182d",
   "metadata": {},
   "outputs": [
    {
     "name": "stderr",
     "output_type": "stream",
     "text": [
      "[DEBUG/MainProcess] created semlock with handle 129\n",
      "[DEBUG/MainProcess] created semlock with handle 131\n",
      "[DEBUG/MainProcess] created semlock with handle 130\n"
     ]
    }
   ],
   "source": [
    "from wrappers import SequenceWrapper, ReshapeWrapper, TensorboardSummaries\n",
    "from wrappers import nature_dqn_env\n",
    "\n",
    "env = WordleEnv()\n",
    "env = SequenceWrapper(env, sos_token=1)\n",
    "env = ReshapeWrapper(env)\n",
    "env = TensorboardSummaries(env, prefix='wordle')"
   ]
  },
  {
   "cell_type": "code",
   "execution_count": 31,
   "id": "e2ea46c8-4386-4b33-898d-2a080c08d30b",
   "metadata": {},
   "outputs": [],
   "source": [
    "from torch.optim import RMSprop\n",
    "\n",
    "nenvs = 1\n",
    "nsteps = 10\n",
    "total_steps = 10 ** 7\n",
    "\n",
    "# env = nature_dqn_env(\"SpaceInvadersNoFrameskip-v4\", nenvs=nenvs)\n",
    "# n_actions = env.action_space.spaces[0].n\n",
    "obs = env.reset()\n",
    "\n",
    "# model = Model(obs.shape[1:], n_actions).to(DEVICE)\n",
    "policy = RNNAgent(\n",
    "    len(tokenizer.index2letter), \n",
    "    len(tokenizer.index2guess_state), \n",
    "    64, 32, \n",
    "    len(tokenizer.index2letter), \n",
    "    output_len=5, \n",
    "    sos_token=1, \n",
    "    game_voc_matrix=game_voc_matrix\n",
    ")\n",
    "\n",
    "runner = EnvRunner(env, policy, nsteps=nsteps, transforms=[ComputeValueTargets(policy),\n",
    "                                                      MergeTimeBatch()])\n",
    "optimizer = RMSprop(policy.parameters(), 7e-4)\n",
    "a2c = A2C(policy, optimizer, max_grad_norm=1.0)"
   ]
  },
  {
   "cell_type": "code",
   "execution_count": 32,
   "id": "04f3e96e-2341-4ba6-a778-05ceb5dd6e24",
   "metadata": {},
   "outputs": [
    {
     "name": "stderr",
     "output_type": "stream",
     "text": [
      "  0%|                                                                                                                                           | 0/1000001 [00:00<?, ?it/s][DEBUG/MainProcess] Queue._start_thread()\n",
      "[DEBUG/MainProcess] doing self._thread.start()\n",
      "[DEBUG/MainProcess] starting thread to feed data to pipe\n",
      "[DEBUG/MainProcess] ... done self._thread.start()\n",
      "[DEBUG/MainProcess] created semlock with handle 137\n",
      "[DEBUG/MainProcess] created semlock with handle 138\n",
      "[DEBUG/MainProcess] created semlock with handle 139\n",
      "[DEBUG/MainProcess] Queue._start_thread()\n",
      "[DEBUG/MainProcess] doing self._thread.start()\n",
      "[DEBUG/MainProcess] starting thread to feed data to pipe\n",
      "[DEBUG/MainProcess] ... done self._thread.start()\n",
      "[DEBUG/MainProcess] created semlock with handle 145\n",
      "[DEBUG/MainProcess] created semlock with handle 146\n",
      "[DEBUG/MainProcess] created semlock with handle 147\n",
      "[DEBUG/MainProcess] Queue._start_thread()\n",
      "[DEBUG/MainProcess] doing self._thread.start()\n",
      "[DEBUG/MainProcess] starting thread to feed data to pipe\n",
      "[DEBUG/MainProcess] ... done self._thread.start()\n",
      "[DEBUG/MainProcess] created semlock with handle 153\n",
      "[DEBUG/MainProcess] created semlock with handle 154\n",
      "[DEBUG/MainProcess] created semlock with handle 155\n",
      "[DEBUG/MainProcess] Queue._start_thread()\n",
      "[DEBUG/MainProcess] doing self._thread.start()\n",
      "[DEBUG/MainProcess] starting thread to feed data to pipe\n",
      "[DEBUG/MainProcess] ... done self._thread.start()\n",
      "[DEBUG/MainProcess] created semlock with handle 161\n",
      "[DEBUG/MainProcess] created semlock with handle 162\n",
      "[DEBUG/MainProcess] created semlock with handle 163\n",
      "[DEBUG/MainProcess] Queue._start_thread()\n",
      "[DEBUG/MainProcess] doing self._thread.start()\n",
      "[DEBUG/MainProcess] starting thread to feed data to pipe\n",
      "[DEBUG/MainProcess] ... done self._thread.start()\n",
      "[DEBUG/MainProcess] created semlock with handle 169\n",
      "[DEBUG/MainProcess] created semlock with handle 170\n",
      "[DEBUG/MainProcess] created semlock with handle 171\n",
      "[DEBUG/MainProcess] Queue._start_thread()\n",
      "[DEBUG/MainProcess] doing self._thread.start()\n",
      "[DEBUG/MainProcess] starting thread to feed data to pipe\n",
      "[DEBUG/MainProcess] ... done self._thread.start()\n",
      "  0%|                                                                                                                             | 194/1000001 [04:59<429:16:08,  1.55s/it]\n"
     ]
    },
    {
     "ename": "KeyboardInterrupt",
     "evalue": "",
     "output_type": "error",
     "traceback": [
      "\u001b[0;31m---------------------------------------------------------------------------\u001b[0m",
      "\u001b[0;31mKeyboardInterrupt\u001b[0m                         Traceback (most recent call last)",
      "Input \u001b[0;32mIn [32]\u001b[0m, in \u001b[0;36m<module>\u001b[0;34m\u001b[0m\n\u001b[1;32m      3\u001b[0m obs \u001b[38;5;241m=\u001b[39m env\u001b[38;5;241m.\u001b[39mreset()\n\u001b[1;32m      4\u001b[0m \u001b[38;5;28;01mfor\u001b[39;00m step \u001b[38;5;129;01min\u001b[39;00m trange(\u001b[38;5;241m0\u001b[39m, total_steps \u001b[38;5;241m+\u001b[39m \u001b[38;5;241m1\u001b[39m, nenvs \u001b[38;5;241m*\u001b[39m nsteps):\n\u001b[0;32m----> 5\u001b[0m     \u001b[43ma2c\u001b[49m\u001b[38;5;241;43m.\u001b[39;49m\u001b[43mtrain\u001b[49m\u001b[43m(\u001b[49m\u001b[43mrunner\u001b[49m\u001b[43m)\u001b[49m\n",
      "Input \u001b[0;32mIn [29]\u001b[0m, in \u001b[0;36mA2C.train\u001b[0;34m(self, runner)\u001b[0m\n\u001b[1;32m     45\u001b[0m \u001b[38;5;28;01mdef\u001b[39;00m \u001b[38;5;21mtrain\u001b[39m(\u001b[38;5;28mself\u001b[39m, runner):\n\u001b[1;32m     46\u001b[0m     \u001b[38;5;66;03m# collect trajectory using runner\u001b[39;00m\n\u001b[1;32m     47\u001b[0m     \u001b[38;5;66;03m# compute loss and perform one step of gradient optimization\u001b[39;00m\n\u001b[1;32m     48\u001b[0m     \u001b[38;5;66;03m# do not forget to clip gradients\u001b[39;00m\n\u001b[0;32m---> 50\u001b[0m     trajectory \u001b[38;5;241m=\u001b[39m \u001b[43mrunner\u001b[49m\u001b[38;5;241;43m.\u001b[39;49m\u001b[43mget_next\u001b[49m\u001b[43m(\u001b[49m\u001b[43m)\u001b[49m\n\u001b[1;32m     52\u001b[0m     \u001b[38;5;28mself\u001b[39m\u001b[38;5;241m.\u001b[39moptimizer\u001b[38;5;241m.\u001b[39mzero_grad()\n\u001b[1;32m     53\u001b[0m     loss \u001b[38;5;241m=\u001b[39m \u001b[38;5;28mself\u001b[39m\u001b[38;5;241m.\u001b[39mloss(trajectory, runner\u001b[38;5;241m.\u001b[39mwrite)\n",
      "File \u001b[0;32m~/repos/wordle/runners.py:44\u001b[0m, in \u001b[0;36mEnvRunner.get_next\u001b[0;34m(self)\u001b[0m\n\u001b[1;32m     42\u001b[0m \u001b[38;5;28;01mfor\u001b[39;00m i \u001b[38;5;129;01min\u001b[39;00m \u001b[38;5;28mrange\u001b[39m(\u001b[38;5;28mself\u001b[39m\u001b[38;5;241m.\u001b[39mnsteps):\n\u001b[1;32m     43\u001b[0m     observations\u001b[38;5;241m.\u001b[39mappend(\u001b[38;5;28mself\u001b[39m\u001b[38;5;241m.\u001b[39mlatest_observation)\n\u001b[0;32m---> 44\u001b[0m     act \u001b[38;5;241m=\u001b[39m \u001b[38;5;28;43mself\u001b[39;49m\u001b[38;5;241;43m.\u001b[39;49m\u001b[43mpolicy\u001b[49m\u001b[38;5;241;43m.\u001b[39;49m\u001b[43mact\u001b[49m\u001b[43m(\u001b[49m\u001b[38;5;28;43mself\u001b[39;49m\u001b[38;5;241;43m.\u001b[39;49m\u001b[43mlatest_observation\u001b[49m\u001b[43m)\u001b[49m\n\u001b[1;32m     46\u001b[0m     \u001b[38;5;28;01mif\u001b[39;00m \u001b[38;5;124m\"\u001b[39m\u001b[38;5;124mactions\u001b[39m\u001b[38;5;124m\"\u001b[39m \u001b[38;5;129;01mnot\u001b[39;00m \u001b[38;5;129;01min\u001b[39;00m act:\n\u001b[1;32m     47\u001b[0m         \u001b[38;5;28;01mraise\u001b[39;00m \u001b[38;5;167;01mValueError\u001b[39;00m(\u001b[38;5;124m\"\u001b[39m\u001b[38;5;124mresult of policy.act must contain \u001b[39m\u001b[38;5;124m'\u001b[39m\u001b[38;5;124mactions\u001b[39m\u001b[38;5;124m'\u001b[39m\u001b[38;5;124m \u001b[39m\u001b[38;5;124m\"\u001b[39m\n\u001b[1;32m     48\u001b[0m                          \u001b[38;5;124mf\u001b[39m\u001b[38;5;124m\"\u001b[39m\u001b[38;5;124mbut has keys \u001b[39m\u001b[38;5;132;01m{\u001b[39;00m\u001b[38;5;28mlist\u001b[39m(act\u001b[38;5;241m.\u001b[39mkeys())\u001b[38;5;132;01m}\u001b[39;00m\u001b[38;5;124m\"\u001b[39m)\n",
      "Input \u001b[0;32mIn [19]\u001b[0m, in \u001b[0;36mRNNAgent.act\u001b[0;34m(self, inputs)\u001b[0m\n\u001b[1;32m    137\u001b[0m inputs \u001b[38;5;241m=\u001b[39m torch\u001b[38;5;241m.\u001b[39mLongTensor(inputs)\n\u001b[1;32m    138\u001b[0m letter_tokens, state_tokens \u001b[38;5;241m=\u001b[39m inputs[:, \u001b[38;5;241m0\u001b[39m, :], inputs[:, \u001b[38;5;241m1\u001b[39m, :]\n\u001b[0;32m--> 139\u001b[0m outputs \u001b[38;5;241m=\u001b[39m \u001b[38;5;28;43mself\u001b[39;49m\u001b[43m(\u001b[49m\u001b[43mletter_tokens\u001b[49m\u001b[43m,\u001b[49m\u001b[43m \u001b[49m\u001b[43mstate_tokens\u001b[49m\u001b[43m)\u001b[49m\n\u001b[1;32m    140\u001b[0m \u001b[38;5;28;01mreturn\u001b[39;00m outputs\n",
      "File \u001b[0;32m~/opt/anaconda3/envs/rl/lib/python3.9/site-packages/torch/nn/modules/module.py:1051\u001b[0m, in \u001b[0;36mModule._call_impl\u001b[0;34m(self, *input, **kwargs)\u001b[0m\n\u001b[1;32m   1047\u001b[0m \u001b[38;5;66;03m# If we don't have any hooks, we want to skip the rest of the logic in\u001b[39;00m\n\u001b[1;32m   1048\u001b[0m \u001b[38;5;66;03m# this function, and just call forward.\u001b[39;00m\n\u001b[1;32m   1049\u001b[0m \u001b[38;5;28;01mif\u001b[39;00m \u001b[38;5;129;01mnot\u001b[39;00m (\u001b[38;5;28mself\u001b[39m\u001b[38;5;241m.\u001b[39m_backward_hooks \u001b[38;5;129;01mor\u001b[39;00m \u001b[38;5;28mself\u001b[39m\u001b[38;5;241m.\u001b[39m_forward_hooks \u001b[38;5;129;01mor\u001b[39;00m \u001b[38;5;28mself\u001b[39m\u001b[38;5;241m.\u001b[39m_forward_pre_hooks \u001b[38;5;129;01mor\u001b[39;00m _global_backward_hooks\n\u001b[1;32m   1050\u001b[0m         \u001b[38;5;129;01mor\u001b[39;00m _global_forward_hooks \u001b[38;5;129;01mor\u001b[39;00m _global_forward_pre_hooks):\n\u001b[0;32m-> 1051\u001b[0m     \u001b[38;5;28;01mreturn\u001b[39;00m \u001b[43mforward_call\u001b[49m\u001b[43m(\u001b[49m\u001b[38;5;241;43m*\u001b[39;49m\u001b[38;5;28;43minput\u001b[39;49m\u001b[43m,\u001b[49m\u001b[43m \u001b[49m\u001b[38;5;241;43m*\u001b[39;49m\u001b[38;5;241;43m*\u001b[39;49m\u001b[43mkwargs\u001b[49m\u001b[43m)\u001b[49m\n\u001b[1;32m   1052\u001b[0m \u001b[38;5;66;03m# Do not call functions when jit is used\u001b[39;00m\n\u001b[1;32m   1053\u001b[0m full_backward_hooks, non_full_backward_hooks \u001b[38;5;241m=\u001b[39m [], []\n",
      "Input \u001b[0;32mIn [19]\u001b[0m, in \u001b[0;36mRNNAgent.forward\u001b[0;34m(self, letter_seq, state_seq)\u001b[0m\n\u001b[1;32m     77\u001b[0m batch_size \u001b[38;5;241m=\u001b[39m letter_seq\u001b[38;5;241m.\u001b[39mshape[\u001b[38;5;241m0\u001b[39m]\n\u001b[1;32m     78\u001b[0m logits \u001b[38;5;241m=\u001b[39m torch\u001b[38;5;241m.\u001b[39mzeros(batch_size, \u001b[38;5;28mself\u001b[39m\u001b[38;5;241m.\u001b[39moutput_len \u001b[38;5;241m+\u001b[39m \u001b[38;5;241m1\u001b[39m, \u001b[38;5;28mself\u001b[39m\u001b[38;5;241m.\u001b[39mletter_tokens)\n\u001b[0;32m---> 80\u001b[0m hidden, cell \u001b[38;5;241m=\u001b[39m \u001b[38;5;28;43mself\u001b[39;49m\u001b[38;5;241;43m.\u001b[39;49m\u001b[43mencoder\u001b[49m\u001b[43m(\u001b[49m\u001b[43mletter_seq\u001b[49m\u001b[43m,\u001b[49m\u001b[43m \u001b[49m\u001b[43mstate_seq\u001b[49m\u001b[43m)\u001b[49m\n\u001b[1;32m     82\u001b[0m \u001b[38;5;66;03m# compute V\u001b[39;00m\n\u001b[1;32m     83\u001b[0m values \u001b[38;5;241m=\u001b[39m \u001b[38;5;28mself\u001b[39m\u001b[38;5;241m.\u001b[39mV_head(hidden\u001b[38;5;241m.\u001b[39msqueeze())\n",
      "File \u001b[0;32m~/opt/anaconda3/envs/rl/lib/python3.9/site-packages/torch/nn/modules/module.py:1051\u001b[0m, in \u001b[0;36mModule._call_impl\u001b[0;34m(self, *input, **kwargs)\u001b[0m\n\u001b[1;32m   1047\u001b[0m \u001b[38;5;66;03m# If we don't have any hooks, we want to skip the rest of the logic in\u001b[39;00m\n\u001b[1;32m   1048\u001b[0m \u001b[38;5;66;03m# this function, and just call forward.\u001b[39;00m\n\u001b[1;32m   1049\u001b[0m \u001b[38;5;28;01mif\u001b[39;00m \u001b[38;5;129;01mnot\u001b[39;00m (\u001b[38;5;28mself\u001b[39m\u001b[38;5;241m.\u001b[39m_backward_hooks \u001b[38;5;129;01mor\u001b[39;00m \u001b[38;5;28mself\u001b[39m\u001b[38;5;241m.\u001b[39m_forward_hooks \u001b[38;5;129;01mor\u001b[39;00m \u001b[38;5;28mself\u001b[39m\u001b[38;5;241m.\u001b[39m_forward_pre_hooks \u001b[38;5;129;01mor\u001b[39;00m _global_backward_hooks\n\u001b[1;32m   1050\u001b[0m         \u001b[38;5;129;01mor\u001b[39;00m _global_forward_hooks \u001b[38;5;129;01mor\u001b[39;00m _global_forward_pre_hooks):\n\u001b[0;32m-> 1051\u001b[0m     \u001b[38;5;28;01mreturn\u001b[39;00m \u001b[43mforward_call\u001b[49m\u001b[43m(\u001b[49m\u001b[38;5;241;43m*\u001b[39;49m\u001b[38;5;28;43minput\u001b[39;49m\u001b[43m,\u001b[49m\u001b[43m \u001b[49m\u001b[38;5;241;43m*\u001b[39;49m\u001b[38;5;241;43m*\u001b[39;49m\u001b[43mkwargs\u001b[49m\u001b[43m)\u001b[49m\n\u001b[1;32m   1052\u001b[0m \u001b[38;5;66;03m# Do not call functions when jit is used\u001b[39;00m\n\u001b[1;32m   1053\u001b[0m full_backward_hooks, non_full_backward_hooks \u001b[38;5;241m=\u001b[39m [], []\n",
      "Input \u001b[0;32mIn [19]\u001b[0m, in \u001b[0;36mEncoder.forward\u001b[0;34m(self, letter_seq, state_seq)\u001b[0m\n\u001b[1;32m     16\u001b[0m letters_embedded \u001b[38;5;241m=\u001b[39m \u001b[38;5;28mself\u001b[39m\u001b[38;5;241m.\u001b[39mdropout(\u001b[38;5;28mself\u001b[39m\u001b[38;5;241m.\u001b[39mletter_embedding(letter_seq))\n\u001b[1;32m     17\u001b[0m states_embedded \u001b[38;5;241m=\u001b[39m \u001b[38;5;28mself\u001b[39m\u001b[38;5;241m.\u001b[39mdropout(\u001b[38;5;28mself\u001b[39m\u001b[38;5;241m.\u001b[39mguess_state_embedding(state_seq))\n\u001b[0;32m---> 19\u001b[0m outputs, (hidden, cell) \u001b[38;5;241m=\u001b[39m \u001b[38;5;28;43mself\u001b[39;49m\u001b[38;5;241;43m.\u001b[39;49m\u001b[43mrnn\u001b[49m\u001b[43m(\u001b[49m\u001b[43mletters_embedded\u001b[49m\u001b[43m \u001b[49m\u001b[38;5;241;43m+\u001b[39;49m\u001b[43m \u001b[49m\u001b[43mstates_embedded\u001b[49m\u001b[43m)\u001b[49m\n\u001b[1;32m     21\u001b[0m \u001b[38;5;66;03m#outputs = [src len, batch size, hid dim * n directions]\u001b[39;00m\n\u001b[1;32m     22\u001b[0m \u001b[38;5;66;03m#hidden = [n layers * n directions, batch size, hid dim]\u001b[39;00m\n\u001b[1;32m     23\u001b[0m \u001b[38;5;66;03m#cell = [n layers * n directions, batch size, hid dim]\u001b[39;00m\n\u001b[1;32m     24\u001b[0m \n\u001b[1;32m     25\u001b[0m \u001b[38;5;66;03m#outputs are always from the top hidden layer\u001b[39;00m\n\u001b[1;32m     27\u001b[0m \u001b[38;5;28;01mreturn\u001b[39;00m hidden, cell\n",
      "File \u001b[0;32m~/opt/anaconda3/envs/rl/lib/python3.9/site-packages/torch/nn/modules/module.py:1051\u001b[0m, in \u001b[0;36mModule._call_impl\u001b[0;34m(self, *input, **kwargs)\u001b[0m\n\u001b[1;32m   1047\u001b[0m \u001b[38;5;66;03m# If we don't have any hooks, we want to skip the rest of the logic in\u001b[39;00m\n\u001b[1;32m   1048\u001b[0m \u001b[38;5;66;03m# this function, and just call forward.\u001b[39;00m\n\u001b[1;32m   1049\u001b[0m \u001b[38;5;28;01mif\u001b[39;00m \u001b[38;5;129;01mnot\u001b[39;00m (\u001b[38;5;28mself\u001b[39m\u001b[38;5;241m.\u001b[39m_backward_hooks \u001b[38;5;129;01mor\u001b[39;00m \u001b[38;5;28mself\u001b[39m\u001b[38;5;241m.\u001b[39m_forward_hooks \u001b[38;5;129;01mor\u001b[39;00m \u001b[38;5;28mself\u001b[39m\u001b[38;5;241m.\u001b[39m_forward_pre_hooks \u001b[38;5;129;01mor\u001b[39;00m _global_backward_hooks\n\u001b[1;32m   1050\u001b[0m         \u001b[38;5;129;01mor\u001b[39;00m _global_forward_hooks \u001b[38;5;129;01mor\u001b[39;00m _global_forward_pre_hooks):\n\u001b[0;32m-> 1051\u001b[0m     \u001b[38;5;28;01mreturn\u001b[39;00m \u001b[43mforward_call\u001b[49m\u001b[43m(\u001b[49m\u001b[38;5;241;43m*\u001b[39;49m\u001b[38;5;28;43minput\u001b[39;49m\u001b[43m,\u001b[49m\u001b[43m \u001b[49m\u001b[38;5;241;43m*\u001b[39;49m\u001b[38;5;241;43m*\u001b[39;49m\u001b[43mkwargs\u001b[49m\u001b[43m)\u001b[49m\n\u001b[1;32m   1052\u001b[0m \u001b[38;5;66;03m# Do not call functions when jit is used\u001b[39;00m\n\u001b[1;32m   1053\u001b[0m full_backward_hooks, non_full_backward_hooks \u001b[38;5;241m=\u001b[39m [], []\n",
      "File \u001b[0;32m~/opt/anaconda3/envs/rl/lib/python3.9/site-packages/torch/nn/modules/rnn.py:679\u001b[0m, in \u001b[0;36mLSTM.forward\u001b[0;34m(self, input, hx)\u001b[0m\n\u001b[1;32m    677\u001b[0m \u001b[38;5;28mself\u001b[39m\u001b[38;5;241m.\u001b[39mcheck_forward_args(\u001b[38;5;28minput\u001b[39m, hx, batch_sizes)\n\u001b[1;32m    678\u001b[0m \u001b[38;5;28;01mif\u001b[39;00m batch_sizes \u001b[38;5;129;01mis\u001b[39;00m \u001b[38;5;28;01mNone\u001b[39;00m:\n\u001b[0;32m--> 679\u001b[0m     result \u001b[38;5;241m=\u001b[39m \u001b[43m_VF\u001b[49m\u001b[38;5;241;43m.\u001b[39;49m\u001b[43mlstm\u001b[49m\u001b[43m(\u001b[49m\u001b[38;5;28;43minput\u001b[39;49m\u001b[43m,\u001b[49m\u001b[43m \u001b[49m\u001b[43mhx\u001b[49m\u001b[43m,\u001b[49m\u001b[43m \u001b[49m\u001b[38;5;28;43mself\u001b[39;49m\u001b[38;5;241;43m.\u001b[39;49m\u001b[43m_flat_weights\u001b[49m\u001b[43m,\u001b[49m\u001b[43m \u001b[49m\u001b[38;5;28;43mself\u001b[39;49m\u001b[38;5;241;43m.\u001b[39;49m\u001b[43mbias\u001b[49m\u001b[43m,\u001b[49m\u001b[43m \u001b[49m\u001b[38;5;28;43mself\u001b[39;49m\u001b[38;5;241;43m.\u001b[39;49m\u001b[43mnum_layers\u001b[49m\u001b[43m,\u001b[49m\n\u001b[1;32m    680\u001b[0m \u001b[43m                      \u001b[49m\u001b[38;5;28;43mself\u001b[39;49m\u001b[38;5;241;43m.\u001b[39;49m\u001b[43mdropout\u001b[49m\u001b[43m,\u001b[49m\u001b[43m \u001b[49m\u001b[38;5;28;43mself\u001b[39;49m\u001b[38;5;241;43m.\u001b[39;49m\u001b[43mtraining\u001b[49m\u001b[43m,\u001b[49m\u001b[43m \u001b[49m\u001b[38;5;28;43mself\u001b[39;49m\u001b[38;5;241;43m.\u001b[39;49m\u001b[43mbidirectional\u001b[49m\u001b[43m,\u001b[49m\u001b[43m \u001b[49m\u001b[38;5;28;43mself\u001b[39;49m\u001b[38;5;241;43m.\u001b[39;49m\u001b[43mbatch_first\u001b[49m\u001b[43m)\u001b[49m\n\u001b[1;32m    681\u001b[0m \u001b[38;5;28;01melse\u001b[39;00m:\n\u001b[1;32m    682\u001b[0m     result \u001b[38;5;241m=\u001b[39m _VF\u001b[38;5;241m.\u001b[39mlstm(\u001b[38;5;28minput\u001b[39m, batch_sizes, hx, \u001b[38;5;28mself\u001b[39m\u001b[38;5;241m.\u001b[39m_flat_weights, \u001b[38;5;28mself\u001b[39m\u001b[38;5;241m.\u001b[39mbias,\n\u001b[1;32m    683\u001b[0m                       \u001b[38;5;28mself\u001b[39m\u001b[38;5;241m.\u001b[39mnum_layers, \u001b[38;5;28mself\u001b[39m\u001b[38;5;241m.\u001b[39mdropout, \u001b[38;5;28mself\u001b[39m\u001b[38;5;241m.\u001b[39mtraining, \u001b[38;5;28mself\u001b[39m\u001b[38;5;241m.\u001b[39mbidirectional)\n",
      "File \u001b[0;32m~/opt/anaconda3/envs/rl/lib/python3.9/traceback.py:197\u001b[0m, in \u001b[0;36mformat_stack\u001b[0;34m(f, limit)\u001b[0m\n\u001b[1;32m    195\u001b[0m \u001b[38;5;28;01mif\u001b[39;00m f \u001b[38;5;129;01mis\u001b[39;00m \u001b[38;5;28;01mNone\u001b[39;00m:\n\u001b[1;32m    196\u001b[0m     f \u001b[38;5;241m=\u001b[39m sys\u001b[38;5;241m.\u001b[39m_getframe()\u001b[38;5;241m.\u001b[39mf_back\n\u001b[0;32m--> 197\u001b[0m \u001b[38;5;28;01mreturn\u001b[39;00m format_list(\u001b[43mextract_stack\u001b[49m\u001b[43m(\u001b[49m\u001b[43mf\u001b[49m\u001b[43m,\u001b[49m\u001b[43m \u001b[49m\u001b[43mlimit\u001b[49m\u001b[38;5;241;43m=\u001b[39;49m\u001b[43mlimit\u001b[49m\u001b[43m)\u001b[49m)\n",
      "File \u001b[0;32m~/opt/anaconda3/envs/rl/lib/python3.9/traceback.py:211\u001b[0m, in \u001b[0;36mextract_stack\u001b[0;34m(f, limit)\u001b[0m\n\u001b[1;32m    209\u001b[0m \u001b[38;5;28;01mif\u001b[39;00m f \u001b[38;5;129;01mis\u001b[39;00m \u001b[38;5;28;01mNone\u001b[39;00m:\n\u001b[1;32m    210\u001b[0m     f \u001b[38;5;241m=\u001b[39m sys\u001b[38;5;241m.\u001b[39m_getframe()\u001b[38;5;241m.\u001b[39mf_back\n\u001b[0;32m--> 211\u001b[0m stack \u001b[38;5;241m=\u001b[39m \u001b[43mStackSummary\u001b[49m\u001b[38;5;241;43m.\u001b[39;49m\u001b[43mextract\u001b[49m\u001b[43m(\u001b[49m\u001b[43mwalk_stack\u001b[49m\u001b[43m(\u001b[49m\u001b[43mf\u001b[49m\u001b[43m)\u001b[49m\u001b[43m,\u001b[49m\u001b[43m \u001b[49m\u001b[43mlimit\u001b[49m\u001b[38;5;241;43m=\u001b[39;49m\u001b[43mlimit\u001b[49m\u001b[43m)\u001b[49m\n\u001b[1;32m    212\u001b[0m stack\u001b[38;5;241m.\u001b[39mreverse()\n\u001b[1;32m    213\u001b[0m \u001b[38;5;28;01mreturn\u001b[39;00m stack\n",
      "File \u001b[0;32m~/opt/anaconda3/envs/rl/lib/python3.9/traceback.py:359\u001b[0m, in \u001b[0;36mStackSummary.extract\u001b[0;34m(klass, frame_gen, limit, lookup_lines, capture_locals)\u001b[0m\n\u001b[1;32m    357\u001b[0m     \u001b[38;5;28;01melse\u001b[39;00m:\n\u001b[1;32m    358\u001b[0m         f_locals \u001b[38;5;241m=\u001b[39m \u001b[38;5;28;01mNone\u001b[39;00m\n\u001b[0;32m--> 359\u001b[0m     result\u001b[38;5;241m.\u001b[39mappend(\u001b[43mFrameSummary\u001b[49m\u001b[43m(\u001b[49m\n\u001b[1;32m    360\u001b[0m \u001b[43m        \u001b[49m\u001b[43mfilename\u001b[49m\u001b[43m,\u001b[49m\u001b[43m \u001b[49m\u001b[43mlineno\u001b[49m\u001b[43m,\u001b[49m\u001b[43m \u001b[49m\u001b[43mname\u001b[49m\u001b[43m,\u001b[49m\u001b[43m \u001b[49m\u001b[43mlookup_line\u001b[49m\u001b[38;5;241;43m=\u001b[39;49m\u001b[38;5;28;43;01mFalse\u001b[39;49;00m\u001b[43m,\u001b[49m\u001b[43m \u001b[49m\u001b[38;5;28;43mlocals\u001b[39;49m\u001b[38;5;241;43m=\u001b[39;49m\u001b[43mf_locals\u001b[49m\u001b[43m)\u001b[49m)\n\u001b[1;32m    361\u001b[0m \u001b[38;5;28;01mfor\u001b[39;00m filename \u001b[38;5;129;01min\u001b[39;00m fnames:\n\u001b[1;32m    362\u001b[0m     linecache\u001b[38;5;241m.\u001b[39mcheckcache(filename)\n",
      "File \u001b[0;32m~/opt/anaconda3/envs/rl/lib/python3.9/traceback.py:243\u001b[0m, in \u001b[0;36mFrameSummary.__init__\u001b[0;34m(self, filename, lineno, name, lookup_line, locals, line)\u001b[0m\n\u001b[1;32m    228\u001b[0m \u001b[38;5;124;03m\"\"\"A single frame from a traceback.\u001b[39;00m\n\u001b[1;32m    229\u001b[0m \n\u001b[1;32m    230\u001b[0m \u001b[38;5;124;03m- :attr:`filename` The filename for the frame.\u001b[39;00m\n\u001b[0;32m   (...)\u001b[0m\n\u001b[1;32m    238\u001b[0m \u001b[38;5;124;03m  mapping the name to the repr() of the variable.\u001b[39;00m\n\u001b[1;32m    239\u001b[0m \u001b[38;5;124;03m\"\"\"\u001b[39;00m\n\u001b[1;32m    241\u001b[0m \u001b[38;5;18m__slots__\u001b[39m \u001b[38;5;241m=\u001b[39m (\u001b[38;5;124m'\u001b[39m\u001b[38;5;124mfilename\u001b[39m\u001b[38;5;124m'\u001b[39m, \u001b[38;5;124m'\u001b[39m\u001b[38;5;124mlineno\u001b[39m\u001b[38;5;124m'\u001b[39m, \u001b[38;5;124m'\u001b[39m\u001b[38;5;124mname\u001b[39m\u001b[38;5;124m'\u001b[39m, \u001b[38;5;124m'\u001b[39m\u001b[38;5;124m_line\u001b[39m\u001b[38;5;124m'\u001b[39m, \u001b[38;5;124m'\u001b[39m\u001b[38;5;124mlocals\u001b[39m\u001b[38;5;124m'\u001b[39m)\n\u001b[0;32m--> 243\u001b[0m \u001b[38;5;28;01mdef\u001b[39;00m \u001b[38;5;21m__init__\u001b[39m(\u001b[38;5;28mself\u001b[39m, filename, lineno, name, \u001b[38;5;241m*\u001b[39m, lookup_line\u001b[38;5;241m=\u001b[39m\u001b[38;5;28;01mTrue\u001b[39;00m,\n\u001b[1;32m    244\u001b[0m         \u001b[38;5;28mlocals\u001b[39m\u001b[38;5;241m=\u001b[39m\u001b[38;5;28;01mNone\u001b[39;00m, line\u001b[38;5;241m=\u001b[39m\u001b[38;5;28;01mNone\u001b[39;00m):\n\u001b[1;32m    245\u001b[0m     \u001b[38;5;124;03m\"\"\"Construct a FrameSummary.\u001b[39;00m\n\u001b[1;32m    246\u001b[0m \n\u001b[1;32m    247\u001b[0m \u001b[38;5;124;03m    :param lookup_line: If True, `linecache` is consulted for the source\u001b[39;00m\n\u001b[0;32m   (...)\u001b[0m\n\u001b[1;32m    252\u001b[0m \u001b[38;5;124;03m        the linecache.\u001b[39;00m\n\u001b[1;32m    253\u001b[0m \u001b[38;5;124;03m    \"\"\"\u001b[39;00m\n\u001b[1;32m    254\u001b[0m     \u001b[38;5;28mself\u001b[39m\u001b[38;5;241m.\u001b[39mfilename \u001b[38;5;241m=\u001b[39m filename\n",
      "\u001b[0;31mKeyboardInterrupt\u001b[0m: "
     ]
    }
   ],
   "source": [
    "from tqdm import trange\n",
    "\n",
    "obs = env.reset()\n",
    "for step in trange(0, total_steps + 1, nenvs * nsteps):\n",
    "    a2c.train(runner)"
   ]
  },
  {
   "cell_type": "code",
   "execution_count": null,
   "id": "40b3b973-dc2d-43d3-a9fa-9ef80d1df4e5",
   "metadata": {},
   "outputs": [],
   "source": []
  },
  {
   "cell_type": "code",
   "execution_count": null,
   "id": "6edf51c3-acbc-4ec6-9fdd-980a8c859be0",
   "metadata": {},
   "outputs": [],
   "source": []
  }
 ],
 "metadata": {
  "kernelspec": {
   "display_name": "Python 3 (ipykernel)",
   "language": "python",
   "name": "python3"
  },
  "language_info": {
   "codemirror_mode": {
    "name": "ipython",
    "version": 3
   },
   "file_extension": ".py",
   "mimetype": "text/x-python",
   "name": "python",
   "nbconvert_exporter": "python",
   "pygments_lexer": "ipython3",
   "version": "3.9.7"
  }
 },
 "nbformat": 4,
 "nbformat_minor": 5
}
