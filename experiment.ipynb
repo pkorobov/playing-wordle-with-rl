{
 "cells": [
  {
   "cell_type": "code",
   "execution_count": 1,
   "id": "2ca29be4-2dfb-4c66-adbd-df22d1f80d80",
   "metadata": {},
   "outputs": [
    {
     "name": "stderr",
     "output_type": "stream",
     "text": [
      "\n"
     ]
    }
   ],
   "source": [
    "%load_ext autoreload\n",
    "%autoreload 1\n",
    "\n",
    "import numpy as np\n",
    "from wordle_env import WordleEnv\n",
    "\n",
    "nenvs = 8    # change this if you have more than 8 CPU ;)\n",
    "env = WordleEnv()"
   ]
  },
  {
   "cell_type": "code",
   "execution_count": 2,
   "id": "a503d89d-1a9f-48fc-a3e9-55d2bff1d628",
   "metadata": {},
   "outputs": [],
   "source": [
    "import torch\n",
    "import torch.nn as nn\n",
    "import torch.nn.functional as F"
   ]
  },
  {
   "cell_type": "code",
   "execution_count": 3,
   "id": "93c05d2e-22b0-4ea9-8677-6c5a9d0474ba",
   "metadata": {},
   "outputs": [
    {
     "data": {
      "text/plain": [
       "array([[22, 26, 18, 21,  7],\n",
       "       [ 6, 21,  4, 17,  8],\n",
       "       [19, 15,  4, 23,  8]], dtype=int32)"
      ]
     },
     "execution_count": 3,
     "metadata": {},
     "output_type": "execute_result"
    }
   ],
   "source": [
    "env.game_voc_matrix"
   ]
  },
  {
   "cell_type": "code",
   "execution_count": 4,
   "id": "4cab6f5a-4be0-46f4-b7b4-bc4af3868b6a",
   "metadata": {},
   "outputs": [
    {
     "data": {
      "text/plain": [
       "(array([[[24, 24, 14,  5,  7],\n",
       "         [ 0,  0,  0,  0,  0],\n",
       "         [ 0,  0,  0,  0,  0],\n",
       "         [ 0,  0,  0,  0,  0],\n",
       "         [ 0,  0,  0,  0,  0],\n",
       "         [ 0,  0,  0,  0,  0]],\n",
       " \n",
       "        [[ 1,  1,  1,  1,  1],\n",
       "         [ 0,  0,  0,  0,  0],\n",
       "         [ 0,  0,  0,  0,  0],\n",
       "         [ 0,  0,  0,  0,  0],\n",
       "         [ 0,  0,  0,  0,  0],\n",
       "         [ 0,  0,  0,  0,  0]]], dtype=int32),\n",
       " 0.0,\n",
       " False,\n",
       " {})"
      ]
     },
     "execution_count": 4,
     "metadata": {},
     "output_type": "execute_result"
    }
   ],
   "source": [
    "env.step(np.array([24, 24, 14, 5, 7]))"
   ]
  },
  {
   "cell_type": "code",
   "execution_count": 5,
   "id": "389194b0-f7ce-437b-952a-bfcbf42b74b1",
   "metadata": {},
   "outputs": [
    {
     "name": "stderr",
     "output_type": "stream",
     "text": [
      "\n",
      "\n"
     ]
    }
   ],
   "source": [
    "# from wrappers import nature_dqn_env\n",
    "\n",
    "# nenvs = 2\n",
    "# env = nature_dqn_env(nenvs=nenvs)"
   ]
  },
  {
   "cell_type": "code",
   "execution_count": null,
   "id": "e30cf137-f690-40d4-b1f0-713518e5c1ac",
   "metadata": {},
   "outputs": [],
   "source": []
  },
  {
   "cell_type": "code",
   "execution_count": 7,
   "id": "132017af-6934-4645-b867-2c5929d84ac4",
   "metadata": {},
   "outputs": [
    {
     "data": {
      "text/plain": [
       "['e', 'q', 'n', 'c', 'e']"
      ]
     },
     "execution_count": 7,
     "metadata": {},
     "output_type": "execute_result"
    }
   ],
   "source": [
    "list(map(lambda x: WordleEnv().tokenizer.index2letter[x], [ 7, 19, 16,  5,  7]))"
   ]
  },
  {
   "cell_type": "code",
   "execution_count": null,
   "id": "54e96289-ff27-4f7a-8569-7f154c36e7c0",
   "metadata": {},
   "outputs": [],
   "source": []
  },
  {
   "cell_type": "code",
   "execution_count": null,
   "id": "a458d518-6a62-4374-b7f9-05c1efefe4aa",
   "metadata": {},
   "outputs": [],
   "source": []
  },
  {
   "cell_type": "code",
   "execution_count": null,
   "id": "2813c3f3-375f-4997-83e0-a46f9fa1bd98",
   "metadata": {},
   "outputs": [],
   "source": []
  },
  {
   "cell_type": "code",
   "execution_count": 5,
   "id": "e150594f-d647-4231-8c31-c23f8c4c0953",
   "metadata": {},
   "outputs": [],
   "source": [
    "class Agent(nn.Module):\n",
    "\n",
    "    def __init__(self, state_shape, n_actions):\n",
    "        \n",
    "        super().__init__()\n",
    "        \n",
    "        conv_layers = [state_shape[0], 32, 64, 64]\n",
    "        size = state_shape[1]        \n",
    "\n",
    "        modules = []\n",
    "        for i in range(len(conv_layers) - 1):\n",
    "            size = conv2d_size_out(size, 3, 2)\n",
    "            conv2d = nn.Conv2d(conv_layers[i], conv_layers[i + 1], kernel_size=3, stride=2)\n",
    "            nn.init.orthogonal_(conv2d.weight, np.sqrt(2))\n",
    "            nn.init.zeros_(conv2d.bias)\n",
    "            modules.append(conv2d)\n",
    "            modules.append(nn.ReLU())\n",
    "        modules.append(Flatten())\n",
    "        self.bottom = nn.Sequential(*modules)        \n",
    "\n",
    "        modules = [nn.Linear(64 * size * size, 256), nn.ReLU(), nn.Linear(256, n_actions)]\n",
    "        self.logits_head = nn.Sequential(*modules)\n",
    "\n",
    "        modules = [nn.Linear(64 * size * size, 128), nn.ReLU(), nn.Linear(128, 1)]\n",
    "        self.V_head = nn.Sequential(*modules)\n",
    "\n",
    "    def forward(self, states):\n",
    "        '''\n",
    "        input:\n",
    "            states - tensor, (batch_size x channels x width x height)\n",
    "        output:\n",
    "            logits - tensor, logits of action probabilities for your actor policy, (batch_size x num_actions)\n",
    "            V - tensor, critic estimation, (batch_size)\n",
    "        '''\n",
    "        features = self.bottom(states)\n",
    "        logits = self.logits_head(features)\n",
    "        V = self.V_head(features).squeeze()\n",
    "        return logits, V"
   ]
  },
  {
   "cell_type": "code",
   "execution_count": 9,
   "id": "7fcb86ba-2e7b-4924-b830-67238f1b963c",
   "metadata": {},
   "outputs": [],
   "source": [
    "from torch.distributions import Categorical\n",
    "\n",
    "class Policy:\n",
    "    def __init__(self, agent):\n",
    "        self.agent = agent\n",
    "\n",
    "    def act(self, inputs):\n",
    "        '''\n",
    "        input:\n",
    "            inputs - numpy array, (batch_size x channels x width x height)\n",
    "        output: dict containing keys ['actions', 'logits', 'log_probs', 'values']:\n",
    "            'actions' - selected actions, numpy, (batch_size)\n",
    "            'logits' - actions logits, tensor, (batch_size x num_actions)\n",
    "            'log_probs' - log probs of selected actions, tensor, (batch_size)\n",
    "            'values' - critic estimations, tensor, (batch_size)\n",
    "        '''\n",
    "        \n",
    "        batch_size, *_ = inputs.shape\n",
    "        \n",
    "        inputs = torch.FloatTensor(inputs).to(DEVICE)\n",
    "        logits, values = agent(inputs)\n",
    "        \n",
    "        probs = F.softmax(logits, dim=-1)\n",
    "        actions = Categorical(probs=probs).sample()\n",
    "        log_probs = torch.log(probs.clip(min=1e-12))[range(batch_size), actions].squeeze()\n",
    "        \n",
    "        return {\n",
    "            \"actions\": actions.cpu().numpy(),\n",
    "            \"logits\": logits,\n",
    "            \"log_probs\": log_probs,\n",
    "            \"values\": values,\n",
    "        }"
   ]
  },
  {
   "cell_type": "code",
   "execution_count": null,
   "id": "a37efcdd-1231-4aac-8a12-100d276e1125",
   "metadata": {},
   "outputs": [],
   "source": [
    "model = Model(obs.shape[1:], n_actions).to(DEVICE)\n",
    "policy = Policy(model)"
   ]
  },
  {
   "cell_type": "code",
   "execution_count": null,
   "id": "c8a36d83-8e00-4940-b473-1a49826aa3b6",
   "metadata": {},
   "outputs": [],
   "source": [
    "runner = EnvRunner(simulator, policy, nsteps=5)"
   ]
  },
  {
   "cell_type": "code",
   "execution_count": null,
   "id": "3d5ed833-793e-4d8e-8399-83e47e4a06c0",
   "metadata": {},
   "outputs": [],
   "source": []
  },
  {
   "cell_type": "code",
   "execution_count": null,
   "id": "77793ae4-7c5a-4912-9454-925a0a13dc1f",
   "metadata": {},
   "outputs": [],
   "source": []
  },
  {
   "cell_type": "code",
   "execution_count": null,
   "id": "5b90eaef-244a-4503-89f6-01608b7bf443",
   "metadata": {},
   "outputs": [],
   "source": []
  },
  {
   "cell_type": "code",
   "execution_count": null,
   "id": "61d68034-bcb8-40bf-8034-75e784e26303",
   "metadata": {},
   "outputs": [],
   "source": []
  },
  {
   "cell_type": "code",
   "execution_count": null,
   "id": "e2ea46c8-4386-4b33-898d-2a080c08d30b",
   "metadata": {},
   "outputs": [],
   "source": []
  }
 ],
 "metadata": {
  "kernelspec": {
   "display_name": "Python 3 (ipykernel)",
   "language": "python",
   "name": "python3"
  },
  "language_info": {
   "codemirror_mode": {
    "name": "ipython",
    "version": 3
   },
   "file_extension": ".py",
   "mimetype": "text/x-python",
   "name": "python",
   "nbconvert_exporter": "python",
   "pygments_lexer": "ipython3",
   "version": "3.9.7"
  }
 },
 "nbformat": 4,
 "nbformat_minor": 5
}
